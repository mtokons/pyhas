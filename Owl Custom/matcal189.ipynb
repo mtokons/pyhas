{
 "cells": [
  {
   "cell_type": "code",
   "execution_count": 29,
   "metadata": {},
   "outputs": [],
   "source": [
    "import os\n",
    "from owlready2 import *"
   ]
  },
  {
   "cell_type": "code",
   "execution_count": 77,
   "metadata": {},
   "outputs": [],
   "source": [
    "onto = get_ontology('matcal.owl')"
   ]
  },
  {
   "cell_type": "code",
   "execution_count": 78,
   "metadata": {},
   "outputs": [],
   "source": [
    "onto = onto.load()"
   ]
  },
  {
   "cell_type": "code",
   "execution_count": 79,
   "metadata": {},
   "outputs": [
    {
     "data": {
      "text/plain": [
       "get_ontology(\"http://www.semanticweb.org/hasnain/ontologies/2019/6/matcal#\")"
      ]
     },
     "execution_count": 79,
     "metadata": {},
     "output_type": "execute_result"
    }
   ],
   "source": [
    "onto"
   ]
  },
  {
   "cell_type": "code",
   "execution_count": 84,
   "metadata": {},
   "outputs": [
    {
     "data": {
      "text/plain": [
       "[matcal.Element,\n",
       " matcal.Element_category,\n",
       " ontologies.Actinide,\n",
       " matcal.Block,\n",
       " matcal.Classification,\n",
       " matcal.Group,\n",
       " matcal.Period,\n",
       " matcal.StandardState,\n",
       " matcal.Heat_Fusion,\n",
       " matcal.Elec_per_shell,\n",
       " matcal.Physical_Properties,\n",
       " matcal.Melting_Point,\n",
       " matcal.Melting_Points]"
      ]
     },
     "execution_count": 84,
     "metadata": {},
     "output_type": "execute_result"
    }
   ],
   "source": [
    "list(onto.classes())"
   ]
  },
  {
   "cell_type": "code",
   "execution_count": 34,
   "metadata": {},
   "outputs": [
    {
     "data": {
      "text/plain": [
       "[matcal.d-block,\n",
       " matcal.f-block,\n",
       " matcal.p-block,\n",
       " matcal.s-block,\n",
       " matcal.Metallic,\n",
       " matcal.Non-metallic,\n",
       " matcal.Semi-metallic,\n",
       " matcal.gas,\n",
       " matcal.liquid,\n",
       " matcal.solid,\n",
       " matcal.state_unknown,\n",
       " matcal.Ac,\n",
       " matcal.14%20kJ/mol,\n",
       " matcal.group_actinoid,\n",
       " matcal.period_7,\n",
       " matcal.Am,\n",
       " matcal.Bk,\n",
       " matcal.Cf,\n",
       " matcal.Cm,\n",
       " matcal.Es,\n",
       " matcal.Fm,\n",
       " matcal.Md,\n",
       " matcal.No,\n",
       " matcal.Np,\n",
       " matcal.Pa,\n",
       " matcal.Pu,\n",
       " matcal.Th,\n",
       " matcal.U,\n",
       " matcal.Bh,\n",
       " matcal.Db,\n",
       " matcal.Fr,\n",
       " matcal.Hs,\n",
       " matcal.Lr,\n",
       " matcal.Mt,\n",
       " matcal.Ra,\n",
       " matcal.Rf,\n",
       " matcal.Sg,\n",
       " matcal.Uub,\n",
       " matcal.Uuh,\n",
       " matcal.Uun,\n",
       " matcal.Uuo,\n",
       " matcal.Uup,\n",
       " matcal.Uuq,\n",
       " matcal.Uus,\n",
       " matcal.Uut,\n",
       " matcal.Uuu,\n",
       " matcal.Ag,\n",
       " matcal.group_11,\n",
       " matcal.period_5,\n",
       " matcal.Au,\n",
       " matcal.Cu,\n",
       " matcal.Cd,\n",
       " matcal.I,\n",
       " matcal.In,\n",
       " matcal.Mo,\n",
       " matcal.Nb,\n",
       " matcal.Pd,\n",
       " matcal.Rb,\n",
       " matcal.Rh,\n",
       " matcal.Ru,\n",
       " matcal.Sb,\n",
       " matcal.Sn,\n",
       " matcal.Sr,\n",
       " matcal.Tc,\n",
       " matcal.Te,\n",
       " matcal.Xe,\n",
       " matcal.Y,\n",
       " matcal.Zr,\n",
       " matcal.Al,\n",
       " matcal.group_13,\n",
       " matcal.period_3,\n",
       " matcal.B,\n",
       " matcal.Ga,\n",
       " matcal.Tl,\n",
       " matcal.Ar,\n",
       " matcal.Cl,\n",
       " matcal.Mg,\n",
       " matcal.Na,\n",
       " matcal.P,\n",
       " matcal.S,\n",
       " matcal.Si,\n",
       " matcal.group_18,\n",
       " matcal.He,\n",
       " matcal.Kr,\n",
       " matcal.Ne,\n",
       " matcal.Rn,\n",
       " matcal.As,\n",
       " matcal.group_15,\n",
       " matcal.period_4,\n",
       " matcal.Bi,\n",
       " matcal.N,\n",
       " matcal.Br,\n",
       " matcal.Ca,\n",
       " matcal.Co,\n",
       " matcal.Cr,\n",
       " matcal.Fe,\n",
       " matcal.Ge,\n",
       " matcal.K,\n",
       " matcal.Mn,\n",
       " matcal.Ni,\n",
       " matcal.Sc,\n",
       " matcal.Se,\n",
       " matcal.Ti,\n",
       " matcal.V,\n",
       " matcal.Zn,\n",
       " matcal.At,\n",
       " matcal.group_17,\n",
       " matcal.period_6,\n",
       " matcal.F,\n",
       " matcal.Ba,\n",
       " matcal.Ce,\n",
       " matcal.Cs,\n",
       " matcal.Dy,\n",
       " matcal.Er,\n",
       " matcal.Eu,\n",
       " matcal.Gd,\n",
       " matcal.Hf,\n",
       " matcal.Hg,\n",
       " matcal.Ho,\n",
       " matcal.Ir,\n",
       " matcal.La,\n",
       " matcal.Lu,\n",
       " matcal.Nd,\n",
       " matcal.Os,\n",
       " matcal.Pb,\n",
       " matcal.Pm,\n",
       " matcal.Po,\n",
       " matcal.Pr,\n",
       " matcal.Pt,\n",
       " matcal.Re,\n",
       " matcal.Sm,\n",
       " matcal.Ta,\n",
       " matcal.Tb,\n",
       " matcal.Tm,\n",
       " matcal.W,\n",
       " matcal.Yb,\n",
       " matcal.period_2,\n",
       " matcal.Be,\n",
       " matcal.C,\n",
       " matcal.Li,\n",
       " matcal.O,\n",
       " matcal.group_2,\n",
       " matcal.group_7,\n",
       " matcal.group_14,\n",
       " matcal.group_12,\n",
       " matcal.group_lanthanoid,\n",
       " matcal.group_9,\n",
       " matcal.group_6,\n",
       " matcal.group_1,\n",
       " matcal.H,\n",
       " matcal.group_5,\n",
       " matcal.group_8,\n",
       " matcal.period_1,\n",
       " matcal.group_4,\n",
       " matcal.group_3,\n",
       " matcal.group_10,\n",
       " matcal.group_16,\n",
       " matcal.configuration]"
      ]
     },
     "execution_count": 34,
     "metadata": {},
     "output_type": "execute_result"
    }
   ],
   "source": [
    "list(onto.individuals())"
   ]
  },
  {
   "cell_type": "code",
   "execution_count": 72,
   "metadata": {},
   "outputs": [],
   "source": [
    "onto.save(file = 'matcal.owl', format = 'rdfxml')"
   ]
  },
  {
   "cell_type": "code",
   "execution_count": 40,
   "metadata": {},
   "outputs": [],
   "source": [
    "with onto:\n",
    "    class Elec_per_shell(Thing):\n",
    "        pass"
   ]
  },
  {
   "cell_type": "code",
   "execution_count": 70,
   "metadata": {},
   "outputs": [],
   "source": [
    "with onto:\n",
    "    class Melting_Point(DataProperty):\n",
    "        range = [int]"
   ]
  },
  {
   "cell_type": "code",
   "execution_count": 71,
   "metadata": {},
   "outputs": [],
   "source": [
    "with onto:\n",
    "    class Melting_Point(Thing >> float):\n",
    "        pass"
   ]
  },
  {
   "cell_type": "code",
   "execution_count": 81,
   "metadata": {},
   "outputs": [],
   "source": [
    "with onto:\n",
    "    class Physical_Properties (Thing):\n",
    "        pass\n",
    "    class Melting_Points(Physical_Properties):\n",
    "        pass"
   ]
  },
  {
   "cell_type": "code",
   "execution_count": 83,
   "metadata": {},
   "outputs": [
    {
     "ename": "TypeError",
     "evalue": "metaclass conflict: the metaclass of a derived class must be a (non-strict) subclass of the metaclasses of all its bases",
     "output_type": "error",
     "traceback": [
      "\u001b[0;31m---------------------------------------------------------------------------\u001b[0m",
      "\u001b[0;31mTypeError\u001b[0m                                 Traceback (most recent call last)",
      "\u001b[0;32m~/.local/lib/python3.7/site-packages/owlready2/individual.py\u001b[0m in \u001b[0;36m_get_fusion_class\u001b[0;34m(Classes0)\u001b[0m\n\u001b[1;32m    380\u001b[0m     \u001b[0;32mtry\u001b[0m\u001b[0;34m:\u001b[0m\u001b[0;34m\u001b[0m\u001b[0;34m\u001b[0m\u001b[0m\n\u001b[0;32m--> 381\u001b[0;31m       \u001b[0mfusion_class\u001b[0m \u001b[0;34m=\u001b[0m \u001b[0mFusionClass\u001b[0m\u001b[0;34m.\u001b[0m\u001b[0m_create_fusion_class\u001b[0m\u001b[0;34m(\u001b[0m\u001b[0mkey\u001b[0m\u001b[0;34m,\u001b[0m \u001b[0mClasses\u001b[0m\u001b[0;34m)\u001b[0m\u001b[0;34m\u001b[0m\u001b[0;34m\u001b[0m\u001b[0m\n\u001b[0m\u001b[1;32m    382\u001b[0m \u001b[0;34m\u001b[0m\u001b[0m\n",
      "\u001b[0;32m~/.local/lib/python3.7/site-packages/owlready2/individual.py\u001b[0m in \u001b[0;36m_create_fusion_class\u001b[0;34m(key, Classes)\u001b[0m\n\u001b[1;32m    399\u001b[0m     \u001b[0;32mwith\u001b[0m \u001b[0manonymous\u001b[0m\u001b[0;34m:\u001b[0m \u001b[0;31m# Force triple insertion into anonymous\u001b[0m\u001b[0;34m\u001b[0m\u001b[0;34m\u001b[0m\u001b[0m\n\u001b[0;32m--> 400\u001b[0;31m       \u001b[0mfusion_class\u001b[0m \u001b[0;34m=\u001b[0m \u001b[0mFusionClass\u001b[0m\u001b[0;34m(\u001b[0m\u001b[0mname\u001b[0m\u001b[0;34m,\u001b[0m \u001b[0mClasses\u001b[0m\u001b[0;34m,\u001b[0m \u001b[0;34m{\u001b[0m \u001b[0;34m\"namespace\"\u001b[0m \u001b[0;34m:\u001b[0m \u001b[0manonymous\u001b[0m \u001b[0;34m}\u001b[0m\u001b[0;34m)\u001b[0m\u001b[0;34m\u001b[0m\u001b[0;34m\u001b[0m\u001b[0m\n\u001b[0m\u001b[1;32m    401\u001b[0m \u001b[0;34m\u001b[0m\u001b[0m\n",
      "\u001b[0;32m~/.local/lib/python3.7/site-packages/owlready2/entity.py\u001b[0m in \u001b[0;36m__new__\u001b[0;34m(MetaClass, name, superclasses, obj_dict)\u001b[0m\n\u001b[1;32m    131\u001b[0m \u001b[0;34m\u001b[0m\u001b[0m\n\u001b[0;32m--> 132\u001b[0;31m       \u001b[0mClass\u001b[0m \u001b[0;34m=\u001b[0m \u001b[0mnamespace\u001b[0m\u001b[0;34m.\u001b[0m\u001b[0mworld\u001b[0m\u001b[0;34m.\u001b[0m\u001b[0m_entities\u001b[0m\u001b[0;34m[\u001b[0m\u001b[0mstorid\u001b[0m\u001b[0;34m]\u001b[0m \u001b[0;34m=\u001b[0m \u001b[0m_is_a\u001b[0m\u001b[0;34m.\u001b[0m\u001b[0m_obj\u001b[0m \u001b[0;34m=\u001b[0m \u001b[0mtype\u001b[0m\u001b[0;34m.\u001b[0m\u001b[0m__new__\u001b[0m\u001b[0;34m(\u001b[0m\u001b[0mMetaClass\u001b[0m\u001b[0;34m,\u001b[0m \u001b[0mname\u001b[0m\u001b[0;34m,\u001b[0m \u001b[0msuperclasses\u001b[0m\u001b[0;34m,\u001b[0m \u001b[0mobj_dict\u001b[0m\u001b[0;34m)\u001b[0m\u001b[0;34m\u001b[0m\u001b[0;34m\u001b[0m\u001b[0m\n\u001b[0m\u001b[1;32m    133\u001b[0m       \u001b[0m_cache_entity\u001b[0m\u001b[0;34m(\u001b[0m\u001b[0mClass\u001b[0m\u001b[0;34m)\u001b[0m\u001b[0;34m\u001b[0m\u001b[0;34m\u001b[0m\u001b[0m\n",
      "\u001b[0;31mTypeError\u001b[0m: metaclass conflict: the metaclass of a derived class must be a (non-strict) subclass of the metaclasses of all its bases",
      "\nDuring handling of the above exception, another exception occurred:\n",
      "\u001b[0;31mTypeError\u001b[0m                                 Traceback (most recent call last)",
      "\u001b[0;32m<ipython-input-83-8223dad008fa>\u001b[0m in \u001b[0;36m<module>\u001b[0;34m\u001b[0m\n\u001b[0;32m----> 1\u001b[0;31m \u001b[0mMelting_Point1\u001b[0m \u001b[0;34m=\u001b[0m \u001b[0mMelting_Points\u001b[0m\u001b[0;34m(\u001b[0m\u001b[0;34m\"Melting_Point\"\u001b[0m\u001b[0;34m)\u001b[0m\u001b[0;34m\u001b[0m\u001b[0;34m\u001b[0m\u001b[0m\n\u001b[0m",
      "\u001b[0;32m~/.local/lib/python3.7/site-packages/owlready2/individual.py\u001b[0m in \u001b[0;36m__new__\u001b[0;34m(Class, name, namespace, **kargs)\u001b[0m\n\u001b[1;32m     98\u001b[0m           \u001b[0malready_existing\u001b[0m\u001b[0;34m.\u001b[0m\u001b[0m__class__\u001b[0m \u001b[0;34m=\u001b[0m \u001b[0mbases\u001b[0m\u001b[0;34m[\u001b[0m\u001b[0;36m0\u001b[0m\u001b[0;34m]\u001b[0m\u001b[0;34m\u001b[0m\u001b[0;34m\u001b[0m\u001b[0m\n\u001b[1;32m     99\u001b[0m         \u001b[0;32melse\u001b[0m\u001b[0;34m:\u001b[0m\u001b[0;34m\u001b[0m\u001b[0;34m\u001b[0m\u001b[0m\n\u001b[0;32m--> 100\u001b[0;31m           \u001b[0malready_existing\u001b[0m\u001b[0;34m.\u001b[0m\u001b[0m__class__\u001b[0m \u001b[0;34m=\u001b[0m \u001b[0mFusionClass\u001b[0m\u001b[0;34m.\u001b[0m\u001b[0m_get_fusion_class\u001b[0m\u001b[0;34m(\u001b[0m\u001b[0mbases\u001b[0m\u001b[0;34m)\u001b[0m\u001b[0;34m\u001b[0m\u001b[0;34m\u001b[0m\u001b[0m\n\u001b[0m\u001b[1;32m    101\u001b[0m \u001b[0;34m\u001b[0m\u001b[0m\n\u001b[1;32m    102\u001b[0m         \u001b[0;32mif\u001b[0m \u001b[0;32mnot\u001b[0m \u001b[0mLOADING\u001b[0m\u001b[0;34m:\u001b[0m\u001b[0;34m\u001b[0m\u001b[0;34m\u001b[0m\u001b[0m\n",
      "\u001b[0;32m~/.local/lib/python3.7/site-packages/owlready2/individual.py\u001b[0m in \u001b[0;36m_get_fusion_class\u001b[0;34m(Classes0)\u001b[0m\n\u001b[1;32m    383\u001b[0m     \u001b[0;32mexcept\u001b[0m\u001b[0;34m:\u001b[0m \u001b[0;31m# Too complex hierarchy => do not consider equivalent classes\u001b[0m\u001b[0;34m\u001b[0m\u001b[0;34m\u001b[0m\u001b[0m\n\u001b[1;32m    384\u001b[0m       \u001b[0mClasses\u001b[0m \u001b[0;34m=\u001b[0m \u001b[0m_keep_most_specific\u001b[0m\u001b[0;34m(\u001b[0m\u001b[0mClasses0\u001b[0m\u001b[0;34m,\u001b[0m \u001b[0mconsider_equivalence\u001b[0m \u001b[0;34m=\u001b[0m \u001b[0;32mTrue\u001b[0m\u001b[0;34m)\u001b[0m\u001b[0;34m\u001b[0m\u001b[0;34m\u001b[0m\u001b[0m\n\u001b[0;32m--> 385\u001b[0;31m       \u001b[0mfusion_class\u001b[0m \u001b[0;34m=\u001b[0m \u001b[0mFusionClass\u001b[0m\u001b[0;34m.\u001b[0m\u001b[0m_create_fusion_class\u001b[0m\u001b[0;34m(\u001b[0m\u001b[0mkey\u001b[0m\u001b[0;34m,\u001b[0m \u001b[0mClasses\u001b[0m\u001b[0;34m)\u001b[0m\u001b[0;34m\u001b[0m\u001b[0;34m\u001b[0m\u001b[0m\n\u001b[0m\u001b[1;32m    386\u001b[0m \u001b[0;34m\u001b[0m\u001b[0m\n\u001b[1;32m    387\u001b[0m     \u001b[0;32mreturn\u001b[0m \u001b[0mfusion_class\u001b[0m\u001b[0;34m\u001b[0m\u001b[0;34m\u001b[0m\u001b[0m\n",
      "\u001b[0;32m~/.local/lib/python3.7/site-packages/owlready2/individual.py\u001b[0m in \u001b[0;36m_create_fusion_class\u001b[0;34m(key, Classes)\u001b[0m\n\u001b[1;32m    398\u001b[0m \u001b[0;34m\u001b[0m\u001b[0m\n\u001b[1;32m    399\u001b[0m     \u001b[0;32mwith\u001b[0m \u001b[0manonymous\u001b[0m\u001b[0;34m:\u001b[0m \u001b[0;31m# Force triple insertion into anonymous\u001b[0m\u001b[0;34m\u001b[0m\u001b[0;34m\u001b[0m\u001b[0m\n\u001b[0;32m--> 400\u001b[0;31m       \u001b[0mfusion_class\u001b[0m \u001b[0;34m=\u001b[0m \u001b[0mFusionClass\u001b[0m\u001b[0;34m(\u001b[0m\u001b[0mname\u001b[0m\u001b[0;34m,\u001b[0m \u001b[0mClasses\u001b[0m\u001b[0;34m,\u001b[0m \u001b[0;34m{\u001b[0m \u001b[0;34m\"namespace\"\u001b[0m \u001b[0;34m:\u001b[0m \u001b[0manonymous\u001b[0m \u001b[0;34m}\u001b[0m\u001b[0;34m)\u001b[0m\u001b[0;34m\u001b[0m\u001b[0;34m\u001b[0m\u001b[0m\n\u001b[0m\u001b[1;32m    401\u001b[0m \u001b[0;34m\u001b[0m\u001b[0m\n\u001b[1;32m    402\u001b[0m     \u001b[0mFusionClass\u001b[0m\u001b[0;34m.\u001b[0m\u001b[0m_FUSION_CLASSES\u001b[0m\u001b[0;34m[\u001b[0m\u001b[0mClasses\u001b[0m\u001b[0;34m]\u001b[0m \u001b[0;34m=\u001b[0m \u001b[0mFusionClass\u001b[0m\u001b[0;34m.\u001b[0m\u001b[0m_CACHES\u001b[0m\u001b[0;34m[\u001b[0m\u001b[0mkey\u001b[0m\u001b[0;34m]\u001b[0m \u001b[0;34m=\u001b[0m \u001b[0mfusion_class\u001b[0m\u001b[0;34m\u001b[0m\u001b[0;34m\u001b[0m\u001b[0m\n",
      "\u001b[0;32m~/.local/lib/python3.7/site-packages/owlready2/entity.py\u001b[0m in \u001b[0;36m__new__\u001b[0;34m(MetaClass, name, superclasses, obj_dict)\u001b[0m\n\u001b[1;32m    130\u001b[0m       )\n\u001b[1;32m    131\u001b[0m \u001b[0;34m\u001b[0m\u001b[0m\n\u001b[0;32m--> 132\u001b[0;31m       \u001b[0mClass\u001b[0m \u001b[0;34m=\u001b[0m \u001b[0mnamespace\u001b[0m\u001b[0;34m.\u001b[0m\u001b[0mworld\u001b[0m\u001b[0;34m.\u001b[0m\u001b[0m_entities\u001b[0m\u001b[0;34m[\u001b[0m\u001b[0mstorid\u001b[0m\u001b[0;34m]\u001b[0m \u001b[0;34m=\u001b[0m \u001b[0m_is_a\u001b[0m\u001b[0;34m.\u001b[0m\u001b[0m_obj\u001b[0m \u001b[0;34m=\u001b[0m \u001b[0mtype\u001b[0m\u001b[0;34m.\u001b[0m\u001b[0m__new__\u001b[0m\u001b[0;34m(\u001b[0m\u001b[0mMetaClass\u001b[0m\u001b[0;34m,\u001b[0m \u001b[0mname\u001b[0m\u001b[0;34m,\u001b[0m \u001b[0msuperclasses\u001b[0m\u001b[0;34m,\u001b[0m \u001b[0mobj_dict\u001b[0m\u001b[0;34m)\u001b[0m\u001b[0;34m\u001b[0m\u001b[0;34m\u001b[0m\u001b[0m\n\u001b[0m\u001b[1;32m    133\u001b[0m       \u001b[0m_cache_entity\u001b[0m\u001b[0;34m(\u001b[0m\u001b[0mClass\u001b[0m\u001b[0;34m)\u001b[0m\u001b[0;34m\u001b[0m\u001b[0;34m\u001b[0m\u001b[0m\n\u001b[1;32m    134\u001b[0m \u001b[0;34m\u001b[0m\u001b[0m\n",
      "\u001b[0;31mTypeError\u001b[0m: metaclass conflict: the metaclass of a derived class must be a (non-strict) subclass of the metaclasses of all its bases"
     ]
    }
   ],
   "source": [
    "Melting_Point1 = Melting_Points(\"Melting_Point\")"
   ]
  },
  {
   "cell_type": "code",
   "execution_count": null,
   "metadata": {},
   "outputs": [],
   "source": []
  }
 ],
 "metadata": {
  "kernelspec": {
   "display_name": "Python 3",
   "language": "python",
   "name": "python3"
  },
  "language_info": {
   "codemirror_mode": {
    "name": "ipython",
    "version": 3
   },
   "file_extension": ".py",
   "mimetype": "text/x-python",
   "name": "python",
   "nbconvert_exporter": "python",
   "pygments_lexer": "ipython3",
   "version": "3.7.3"
  }
 },
 "nbformat": 4,
 "nbformat_minor": 2
}
