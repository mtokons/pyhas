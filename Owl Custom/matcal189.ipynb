{
 "cells": [
  {
   "cell_type": "code",
   "execution_count": 1,
   "metadata": {},
   "outputs": [
    {
     "name": "stderr",
     "output_type": "stream",
     "text": [
      "* Owlready2 * Warning: optimized Cython parser module 'owlready2_optimized' is not available, defaulting to slower Python implementation\n"
     ]
    }
   ],
   "source": [
    "import os\n",
    "from owlready2 import *"
   ]
  },
  {
   "cell_type": "code",
   "execution_count": 2,
   "metadata": {},
   "outputs": [],
   "source": [
    "onto = get_ontology('matcal.owl')"
   ]
  },
  {
   "cell_type": "code",
   "execution_count": 4,
   "metadata": {},
   "outputs": [],
   "source": [
    "onto = onto.load()"
   ]
  },
  {
   "cell_type": "code",
   "execution_count": 5,
   "metadata": {},
   "outputs": [
    {
     "data": {
      "text/plain": [
       "get_ontology(\"http://www.semanticweb.org/hasnain/ontologies/2019/6/matcal#\")"
      ]
     },
     "execution_count": 5,
     "metadata": {},
     "output_type": "execute_result"
    }
   ],
   "source": [
    "onto"
   ]
  },
  {
   "cell_type": "code",
   "execution_count": 6,
   "metadata": {},
   "outputs": [
    {
     "name": "stderr",
     "output_type": "stream",
     "text": [
      "* Owlready2 * WARNING: ObjectProperty http://www.semanticweb.org/hasnain/ontologies/2019/6/matcal#Heat_of_fusion belongs to more than one entity types: [owl.ObjectProperty, matcal.Element]; I'm trying to fix it...\n"
     ]
    },
    {
     "data": {
      "text/plain": [
       "[matcal.Element,\n",
       " matcal.Element_category,\n",
       " ontologies.Actinide,\n",
       " matcal.Block,\n",
       " matcal.Boiling_Points,\n",
       " matcal.Physical_Properties,\n",
       " matcal.Classification,\n",
       " matcal.Elec_per_shell,\n",
       " matcal.Group,\n",
       " matcal.Period,\n",
       " matcal.StandardState,\n",
       " matcal.Heat_Fusion,\n",
       " matcal.Melting_Points]"
      ]
     },
     "execution_count": 6,
     "metadata": {},
     "output_type": "execute_result"
    }
   ],
   "source": [
    "list(onto.classes())"
   ]
  },
  {
   "cell_type": "code",
   "execution_count": 7,
   "metadata": {},
   "outputs": [
    {
     "data": {
      "text/plain": [
       "[matcal.d-block,\n",
       " matcal.f-block,\n",
       " matcal.p-block,\n",
       " matcal.s-block,\n",
       " matcal.Metallic,\n",
       " matcal.Non-metallic,\n",
       " matcal.Semi-metallic,\n",
       " matcal.gas,\n",
       " matcal.liquid,\n",
       " matcal.solid,\n",
       " matcal.state_unknown,\n",
       " matcal.Ac,\n",
       " matcal.14%20kJ/mol,\n",
       " matcal.group_actinoid,\n",
       " matcal.period_7,\n",
       " matcal.Ag,\n",
       " matcal.group_11,\n",
       " matcal.period_5,\n",
       " matcal.Al,\n",
       " matcal.group_13,\n",
       " matcal.period_3,\n",
       " matcal.Am,\n",
       " matcal.Ar,\n",
       " matcal.group_18,\n",
       " matcal.As,\n",
       " matcal.group_15,\n",
       " matcal.period_4,\n",
       " matcal.At,\n",
       " matcal.group_17,\n",
       " matcal.period_6,\n",
       " matcal.Au,\n",
       " matcal.B,\n",
       " matcal.period_2,\n",
       " matcal.Ba,\n",
       " matcal.group_2,\n",
       " matcal.Be,\n",
       " matcal.Bh,\n",
       " matcal.group_7,\n",
       " matcal.Bi,\n",
       " matcal.Bk,\n",
       " matcal.Br,\n",
       " matcal.C,\n",
       " matcal.group_14,\n",
       " matcal.Ca,\n",
       " matcal.Cd,\n",
       " matcal.group_12,\n",
       " matcal.Ce,\n",
       " matcal.group_lanthanoid,\n",
       " matcal.Cf,\n",
       " matcal.Cl,\n",
       " matcal.Cm,\n",
       " matcal.Co,\n",
       " matcal.group_9,\n",
       " matcal.Cr,\n",
       " matcal.group_6,\n",
       " matcal.Cs,\n",
       " matcal.group_1,\n",
       " matcal.Cu,\n",
       " matcal.Db,\n",
       " matcal.group_5,\n",
       " matcal.Dy,\n",
       " matcal.Er,\n",
       " matcal.Es,\n",
       " matcal.Eu,\n",
       " matcal.F,\n",
       " matcal.Fe,\n",
       " matcal.group_8,\n",
       " matcal.Fm,\n",
       " matcal.Fr,\n",
       " matcal.Ga,\n",
       " matcal.Gd,\n",
       " matcal.Ge,\n",
       " matcal.H,\n",
       " matcal.period_1,\n",
       " matcal.He,\n",
       " matcal.Hf,\n",
       " matcal.group_4,\n",
       " matcal.Hg,\n",
       " matcal.Ho,\n",
       " matcal.Hs,\n",
       " matcal.I,\n",
       " matcal.In,\n",
       " matcal.Ir,\n",
       " matcal.K,\n",
       " matcal.Kr,\n",
       " matcal.La,\n",
       " matcal.Li,\n",
       " matcal.Lr,\n",
       " matcal.group_3,\n",
       " matcal.Lu,\n",
       " matcal.Md,\n",
       " matcal.Mg,\n",
       " matcal.Mn,\n",
       " matcal.Mo,\n",
       " matcal.Mt,\n",
       " matcal.N,\n",
       " matcal.Na,\n",
       " matcal.Nb,\n",
       " matcal.Nd,\n",
       " matcal.Ne,\n",
       " matcal.Ni,\n",
       " matcal.group_10,\n",
       " matcal.No,\n",
       " matcal.Np,\n",
       " matcal.O,\n",
       " matcal.group_16,\n",
       " matcal.Os,\n",
       " matcal.P,\n",
       " matcal.Pa,\n",
       " matcal.Pb,\n",
       " matcal.Pd,\n",
       " matcal.Pm,\n",
       " matcal.Po,\n",
       " matcal.Pr,\n",
       " matcal.Pt,\n",
       " matcal.Pu,\n",
       " matcal.Ra,\n",
       " matcal.Rb,\n",
       " matcal.Re,\n",
       " matcal.Rf,\n",
       " matcal.Rh,\n",
       " matcal.Rn,\n",
       " matcal.Ru,\n",
       " matcal.S,\n",
       " matcal.Sb,\n",
       " matcal.Sc,\n",
       " matcal.Se,\n",
       " matcal.Sg,\n",
       " matcal.Si,\n",
       " matcal.Sm,\n",
       " matcal.Sn,\n",
       " matcal.Sr,\n",
       " matcal.Ta,\n",
       " matcal.Tb,\n",
       " matcal.Tc,\n",
       " matcal.Te,\n",
       " matcal.Th,\n",
       " matcal.Ti,\n",
       " matcal.Tl,\n",
       " matcal.Tm,\n",
       " matcal.U,\n",
       " matcal.Uub,\n",
       " matcal.Uuh,\n",
       " matcal.Uun,\n",
       " matcal.Uuo,\n",
       " matcal.Uup,\n",
       " matcal.Uuq,\n",
       " matcal.Uus,\n",
       " matcal.Uut,\n",
       " matcal.Uuu,\n",
       " matcal.V,\n",
       " matcal.W,\n",
       " matcal.Xe,\n",
       " matcal.Y,\n",
       " matcal.Yb,\n",
       " matcal.Zn,\n",
       " matcal.Zr,\n",
       " matcal.configuration,\n",
       " matcal.3471]"
      ]
     },
     "execution_count": 7,
     "metadata": {},
     "output_type": "execute_result"
    }
   ],
   "source": [
    "list(onto.individuals())"
   ]
  },
  {
   "cell_type": "code",
   "execution_count": null,
   "metadata": {},
   "outputs": [],
   "source": [
    "onto.save(file = 'matcal.owl', format = 'rdfxml')"
   ]
  },
  {
   "cell_type": "code",
   "execution_count": null,
   "metadata": {},
   "outputs": [],
   "source": [
    "with onto:\n",
    "    class Elec_per_shell(Thing):\n",
    "        pass"
   ]
  },
  {
   "cell_type": "code",
   "execution_count": null,
   "metadata": {},
   "outputs": [],
   "source": [
    "with onto:\n",
    "    class Melting_Point(DataProperty):\n",
    "        range = [int]"
   ]
  },
  {
   "cell_type": "code",
   "execution_count": null,
   "metadata": {},
   "outputs": [],
   "source": [
    "with onto:\n",
    "    class Melting_Point(Thing >> float):\n",
    "        pass"
   ]
  },
  {
   "cell_type": "code",
   "execution_count": null,
   "metadata": {},
   "outputs": [],
   "source": [
    "with onto:\n",
    "    class Physical_Properties (Thing):\n",
    "        pass\n",
    "    class Melting_Points(Physical_Properties):\n",
    "        pass"
   ]
  },
  {
   "cell_type": "code",
   "execution_count": null,
   "metadata": {},
   "outputs": [],
   "source": [
    "Melting_Point1 = Melting_Points(\"Melting_Point\")"
   ]
  },
  {
   "cell_type": "code",
   "execution_count": null,
   "metadata": {},
   "outputs": [],
   "source": []
  }
 ],
 "metadata": {
  "kernelspec": {
   "display_name": "Python 3",
   "language": "python",
   "name": "python3"
  },
  "language_info": {
   "codemirror_mode": {
    "name": "ipython",
    "version": 3
   },
   "file_extension": ".py",
   "mimetype": "text/x-python",
   "name": "python",
   "nbconvert_exporter": "python",
   "pygments_lexer": "ipython3",
   "version": "3.7.3"
  }
 },
 "nbformat": 4,
 "nbformat_minor": 2
}
