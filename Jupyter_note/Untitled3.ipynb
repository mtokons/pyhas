{
 "cells": [
  {
   "cell_type": "code",
   "execution_count": 1,
   "metadata": {},
   "outputs": [
    {
     "name": "stderr",
     "output_type": "stream",
     "text": [
      "* Owlready2 * Warning: optimized Cython parser module 'owlready2_optimized' is not available, defaulting to slower Python implementation\n"
     ]
    }
   ],
   "source": [
    "from owlready2 import *\n",
    "import types\n",
    "import json"
   ]
  },
  {
   "cell_type": "code",
   "execution_count": 10,
   "metadata": {},
   "outputs": [],
   "source": [
    "onto = get_ontology(\"./pytest/ai201.owl\").load()"
   ]
  },
  {
   "cell_type": "code",
   "execution_count": 19,
   "metadata": {},
   "outputs": [
    {
     "data": {
      "text/plain": [
       "[ai201.Alu,\n",
       " ai201.Zu,\n",
       " ai201.Bz,\n",
       " ai201.Cx,\n",
       " ai201.CxSub,\n",
       " ai201.CaSub,\n",
       " ai201.CbSub,\n",
       " ai201.CcSub,\n",
       " ai201.Dx,\n",
       " ai201.ZaSub,\n",
       " ai201.ZbSub,\n",
       " ai201.ZcSub,\n",
       " ai201.ZiSub,\n",
       " ai201.Zbb,\n",
       " ai201.ZccSub,\n",
       " ai201.Cs,\n",
       " ai201.item,\n",
       " ai201.abc,\n",
       " ai201.alumin,\n",
       " ai201.Na,\n",
       " ai201.Drug,\n",
       " ai201.Ha,\n",
       " ai201.SOmething,\n",
       " ai201.nitro,\n",
       " ai201.zinc,\n",
       " ai201.A,\n",
       " ai201.r,\n",
       " ai201.2,\n",
       " ai201.yb]"
      ]
     },
     "execution_count": 19,
     "metadata": {},
     "output_type": "execute_result"
    }
   ],
   "source": [
    "list (onto.classes())"
   ]
  },
  {
   "cell_type": "code",
   "execution_count": 18,
   "metadata": {},
   "outputs": [],
   "source": [
    "with onto:\n",
    "    NewClass = types.new_class('yb', (A,))"
   ]
  },
  {
   "cell_type": "code",
   "execution_count": null,
   "metadata": {},
   "outputs": [],
   "source": []
  },
  {
   "cell_type": "code",
   "execution_count": null,
   "metadata": {},
   "outputs": [],
   "source": []
  },
  {
   "cell_type": "code",
   "execution_count": 16,
   "metadata": {},
   "outputs": [],
   "source": [
    "class A (Thing):\n",
    "    namespace = onto"
   ]
  },
  {
   "cell_type": "code",
   "execution_count": null,
   "metadata": {},
   "outputs": [],
   "source": []
  },
  {
   "cell_type": "code",
   "execution_count": 20,
   "metadata": {},
   "outputs": [
    {
     "name": "stderr",
     "output_type": "stream",
     "text": [
      "* Owlready2 * Running HermiT...\n",
      "    java -Xmx2000M -cp /usr/local/lib/python3.6/dist-packages/owlready2/hermit:/usr/local/lib/python3.6/dist-packages/owlready2/hermit/HermiT.jar org.semanticweb.HermiT.cli.CommandLine -c -O -D -I file:////tmp/tmpbb2qwwax\n",
      "* Owlready2 * HermiT took 1.188356637954712 seconds\n",
      "* Owlready * Reparenting ai201.zinc: {owl.Thing, ai201.Drug} => {ai201.Drug}\n",
      "* Owlready * (NB: only changes on entities loaded in Python are shown, other changes are done but not listed)\n"
     ]
    }
   ],
   "source": [
    "sync_reasoner()\n",
    "onto.save(file = 'ai201.owl', format = 'rdfxml')"
   ]
  },
  {
   "cell_type": "code",
   "execution_count": null,
   "metadata": {},
   "outputs": [],
   "source": []
  }
 ],
 "metadata": {
  "kernelspec": {
   "display_name": "Python 3",
   "language": "python",
   "name": "python3"
  },
  "language_info": {
   "codemirror_mode": {
    "name": "ipython",
    "version": 3
   },
   "file_extension": ".py",
   "mimetype": "text/x-python",
   "name": "python",
   "nbconvert_exporter": "python",
   "pygments_lexer": "ipython3",
   "version": "3.6.8"
  }
 },
 "nbformat": 4,
 "nbformat_minor": 2
}
