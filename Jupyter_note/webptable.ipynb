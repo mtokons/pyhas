{
 "cells": [
  {
   "cell_type": "code",
   "execution_count": 1,
   "metadata": {},
   "outputs": [
    {
     "name": "stderr",
     "output_type": "stream",
     "text": [
      "* Owlready2 * Warning: optimized Cython parser module 'owlready2_optimized' is not available, defaulting to slower Python implementation\n"
     ]
    }
   ],
   "source": [
    "from owlready2 import get_ontology, onto_path"
   ]
  },
  {
   "cell_type": "code",
   "execution_count": 2,
   "metadata": {},
   "outputs": [],
   "source": [
    "import os"
   ]
  },
  {
   "cell_type": "code",
   "execution_count": 3,
   "metadata": {},
   "outputs": [],
   "source": [
    "onto = get_ontology('http://www.daml.org/2003/01/periodictable/PeriodicTable.owl')"
   ]
  },
  {
   "cell_type": "code",
   "execution_count": 4,
   "metadata": {},
   "outputs": [],
   "source": [
    "onto = onto.load()"
   ]
  },
  {
   "cell_type": "code",
   "execution_count": 5,
   "metadata": {},
   "outputs": [
    {
     "data": {
      "text/plain": [
       "get_ontology(\"http://www.daml.org/2003/01/periodictable/PeriodicTable#\")"
      ]
     },
     "execution_count": 5,
     "metadata": {},
     "output_type": "execute_result"
    }
   ],
   "source": [
    "onto\n"
   ]
  },
  {
   "cell_type": "code",
   "execution_count": 6,
   "metadata": {},
   "outputs": [
    {
     "data": {
      "text/plain": [
       "[]"
      ]
     },
     "execution_count": 6,
     "metadata": {},
     "output_type": "execute_result"
    }
   ],
   "source": [
    "list(onto.individuals())"
   ]
  },
  {
   "cell_type": "code",
   "execution_count": 7,
   "metadata": {},
   "outputs": [
    {
     "data": {
      "text/plain": [
       "[PeriodicTable.Classification,\n",
       " PeriodicTable.StandardState,\n",
       " PeriodicTable.Block,\n",
       " PeriodicTable.Group,\n",
       " PeriodicTable.Element,\n",
       " PeriodicTable.Period]"
      ]
     },
     "execution_count": 7,
     "metadata": {},
     "output_type": "execute_result"
    }
   ],
   "source": [
    "list(onto.classes())"
   ]
  },
  {
   "cell_type": "code",
   "execution_count": 9,
   "metadata": {},
   "outputs": [
    {
     "name": "stdout",
     "output_type": "stream",
     "text": [
      "PeriodicTable.Block\n"
     ]
    }
   ],
   "source": [
    "print(onto.Block)"
   ]
  },
  {
   "cell_type": "code",
   "execution_count": 12,
   "metadata": {},
   "outputs": [
    {
     "data": {
      "text/plain": [
       "<generator object _GraphManager.individuals at 0x7fd1a8066938>"
      ]
     },
     "execution_count": 12,
     "metadata": {},
     "output_type": "execute_result"
    }
   ],
   "source": [
    "onto.individuals()"
   ]
  },
  {
   "cell_type": "code",
   "execution_count": 13,
   "metadata": {},
   "outputs": [
    {
     "data": {
      "text/plain": [
       "[]"
      ]
     },
     "execution_count": 13,
     "metadata": {},
     "output_type": "execute_result"
    }
   ],
   "source": [
    "list(onto.individuals())"
   ]
  },
  {
   "cell_type": "code",
   "execution_count": 15,
   "metadata": {},
   "outputs": [
    {
     "data": {
      "text/plain": [
       "[periodictable.PeriodicTable, PeriodicTable.Classification, PeriodicTable.Metallic, PeriodicTable.Non-metallic, PeriodicTable.Semi-metallic, PeriodicTable.StandardState, PeriodicTable.state_unknown, PeriodicTable.gas, PeriodicTable.solid, PeriodicTable.liquid, PeriodicTable.Block, PeriodicTable.s-block, PeriodicTable.p-block, PeriodicTable.d-block, PeriodicTable.f-block, PeriodicTable.Group, PeriodicTable.number, PeriodicTable.name, PeriodicTable.element, PeriodicTable.Element, PeriodicTable.Period, PeriodicTable.symbol, PeriodicTable.atomicNumber, PeriodicTable.atomicWeight, PeriodicTable.group, PeriodicTable.period, PeriodicTable.block, PeriodicTable.standardState, PeriodicTable.color, PeriodicTable.classification, PeriodicTable.casRegistryID, PeriodicTable.group_1, PeriodicTable.H, PeriodicTable.Li, PeriodicTable.Na, PeriodicTable.K, PeriodicTable.Rb, PeriodicTable.Cs, PeriodicTable.Fr, PeriodicTable.group_2, PeriodicTable.Be, PeriodicTable.Mg, PeriodicTable.Ca, PeriodicTable.Sr, PeriodicTable.Ba, PeriodicTable.Ra, PeriodicTable.group_3, PeriodicTable.Sc, PeriodicTable.Y, PeriodicTable.Lu, PeriodicTable.Lr, PeriodicTable.group_4, PeriodicTable.Ti, PeriodicTable.Zr, PeriodicTable.Hf, PeriodicTable.Rf, PeriodicTable.group_5, PeriodicTable.V, PeriodicTable.Nb, PeriodicTable.Ta, PeriodicTable.Db, PeriodicTable.group_6, PeriodicTable.Cr, PeriodicTable.Mo, PeriodicTable.W, PeriodicTable.Sg, PeriodicTable.group_7, PeriodicTable.Mn, PeriodicTable.Tc, PeriodicTable.Re, PeriodicTable.Bh, PeriodicTable.group_8, PeriodicTable.Fe, PeriodicTable.Ru, PeriodicTable.Os, PeriodicTable.Hs, PeriodicTable.group_9, PeriodicTable.Co, PeriodicTable.Rh, PeriodicTable.Ir, PeriodicTable.Mt, PeriodicTable.group_10, PeriodicTable.Ni, PeriodicTable.Pd, PeriodicTable.Pt, PeriodicTable.Uun, PeriodicTable.group_11, PeriodicTable.Cu, PeriodicTable.Ag, PeriodicTable.Au, PeriodicTable.Uuu, PeriodicTable.group_12, PeriodicTable.Zn, PeriodicTable.Cd, PeriodicTable.Hg, PeriodicTable.Uub, PeriodicTable.group_13, PeriodicTable.B, PeriodicTable.Al, PeriodicTable.Ga, PeriodicTable.In, PeriodicTable.Tl, PeriodicTable.Uut, PeriodicTable.group_14, PeriodicTable.C, PeriodicTable.Si, PeriodicTable.Ge, PeriodicTable.Sn, PeriodicTable.Pb, PeriodicTable.Uuq, PeriodicTable.group_15, PeriodicTable.N, PeriodicTable.P, PeriodicTable.As, PeriodicTable.Sb, PeriodicTable.Bi, PeriodicTable.Uup, PeriodicTable.group_16, PeriodicTable.O, PeriodicTable.S, PeriodicTable.Se, PeriodicTable.Te, PeriodicTable.Po, PeriodicTable.Uuh, PeriodicTable.group_17, PeriodicTable.F, PeriodicTable.Cl, PeriodicTable.Br, PeriodicTable.I, PeriodicTable.At, PeriodicTable.Uus, PeriodicTable.group_18, PeriodicTable.He, PeriodicTable.Ne, PeriodicTable.Ar, PeriodicTable.Kr, PeriodicTable.Xe, PeriodicTable.Rn, PeriodicTable.Uuo, PeriodicTable.group_lanthanoid, PeriodicTable.La, PeriodicTable.Ce, PeriodicTable.Pr, PeriodicTable.Nd, PeriodicTable.Pm, PeriodicTable.Sm, PeriodicTable.Eu, PeriodicTable.Gd, PeriodicTable.Tb, PeriodicTable.Dy, PeriodicTable.Ho, PeriodicTable.Er, PeriodicTable.Tm, PeriodicTable.Yb, PeriodicTable.group_actinoid, PeriodicTable.Ac, PeriodicTable.Th, PeriodicTable.Pa, PeriodicTable.U, PeriodicTable.Np, PeriodicTable.Pu, PeriodicTable.Am, PeriodicTable.Cm, PeriodicTable.Bk, PeriodicTable.Cf, PeriodicTable.Es, PeriodicTable.Fm, PeriodicTable.Md, PeriodicTable.No, PeriodicTable.period_1, PeriodicTable.period_2, PeriodicTable.period_3, PeriodicTable.period_4, PeriodicTable.period_5, PeriodicTable.period_6, PeriodicTable.period_7]"
      ]
     },
     "execution_count": 15,
     "metadata": {},
     "output_type": "execute_result"
    }
   ],
   "source": [
    "onto.search(iri = \"*\")"
   ]
  },
  {
   "cell_type": "code",
   "execution_count": null,
   "metadata": {},
   "outputs": [],
   "source": []
  }
 ],
 "metadata": {
  "kernelspec": {
   "display_name": "Python 3",
   "language": "python",
   "name": "python3"
  },
  "language_info": {
   "codemirror_mode": {
    "name": "ipython",
    "version": 3
   },
   "file_extension": ".py",
   "mimetype": "text/x-python",
   "name": "python",
   "nbconvert_exporter": "python",
   "pygments_lexer": "ipython3",
   "version": "3.6.8"
  }
 },
 "nbformat": 4,
 "nbformat_minor": 2
}
