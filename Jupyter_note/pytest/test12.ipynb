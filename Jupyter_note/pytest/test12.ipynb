{
 "cells": [
  {
   "cell_type": "code",
   "execution_count": 1,
   "metadata": {},
   "outputs": [
    {
     "name": "stderr",
     "output_type": "stream",
     "text": [
      "* Owlready2 * Warning: optimized Cython parser module 'owlready2_optimized' is not available, defaulting to slower Python implementation\n"
     ]
    }
   ],
   "source": [
    "from owlready2 import *\n",
    "import types"
   ]
  },
  {
   "cell_type": "code",
   "execution_count": 2,
   "metadata": {},
   "outputs": [],
   "source": [
    "onto = get_ontology('matcal.owl').load()"
   ]
  },
  {
   "cell_type": "code",
   "execution_count": 3,
   "metadata": {},
   "outputs": [
    {
     "data": {
      "text/plain": [
       "get_ontology(\"http://www.semanticweb.org/hasnain/ontologies/2019/5/ai20#\")"
      ]
     },
     "execution_count": 3,
     "metadata": {},
     "output_type": "execute_result"
    }
   ],
   "source": [
    "onto"
   ]
  },
  {
   "cell_type": "code",
   "execution_count": null,
   "metadata": {},
   "outputs": [
    {
     "name": "stdout",
     "output_type": "stream",
     "text": [
      "     Z Sym     Element                                     Origin of name  \\\n",
      "0    1   H    Hydrogen  the Greek 'hydro' and 'genes' meaning water-fo...   \n",
      "1    2  He      Helium                     the Greek 'helios' meaning sun   \n",
      "2    3  Li     Lithium                   the Greek 'lithos' meaning stone   \n",
      "3    4  Be   Beryllium                the Greek name for beryl, 'beryllo'   \n",
      "4    5   B       Boron   the Arabic 'buraq', which was the name for borax   \n",
      "5    6   C      Carbon                the Latin 'carbo', meaning charcoal   \n",
      "6    7   N    Nitrogen  the Greek 'nitron' and 'genes' meaning nitre-f...   \n",
      "7    8   O      Oxygen   the Greek 'oxy' and 'genes' meaning acid-forming   \n",
      "8    9   F    Fluorine                the Latin 'fluere', meaning to flow   \n",
      "9   10  Ne        Neon                      the Greek 'neos', meaning new   \n",
      "10  11  Na      Sodium           the English word soda (natrium in Latin)   \n",
      "11  12  Mg   Magnesium  Magnesia, a district of Eastern Thessaly in Gr...   \n",
      "12  13  Al   Aluminium  the Latin name for alum, 'alumen' meaning bitt...   \n",
      "13  14  Si     Silicon      the Latin 'silex' or 'silicis', meaning flint   \n",
      "14  15   P  Phosphorus   the Greek 'phosphoros', meaning bringer of light   \n",
      "15  16   S      Sulfur  Either from the Sanskrit 'sulvere', or the Lat...   \n",
      "16  17  Cl    Chlorine       the Greek 'chloros', meaning greenish yellow   \n",
      "17  18  Ar       Argon                   the Greek, 'argos', meaning idle   \n",
      "18  19   K   Potassium          the English word potash (kalium in Latin)   \n",
      "19  20  Ca     Calcium                      the Latin 'calx' meaning lime   \n",
      "20  21  Sc    Scandium          Scandinavia (with the Latin name Scandia)   \n",
      "21  22  Ti    Titanium  Titans, the sons of the Earth goddess of Greek...   \n",
      "22  23   V    Vanadium  Vanadis, an old Norse name for the Scandinavia...   \n",
      "23  24  Cr    Chromium                 the Greek 'chroma', meaning colour   \n",
      "24  25  Mn   Manganese  Either the Latin 'magnes', meaning magnet or f...   \n",
      "\n",
      "    Group  Period  \n",
      "0       1       1  \n",
      "1      18       1  \n",
      "2       1       2  \n",
      "3       2       2  \n",
      "4      13       2  \n",
      "5      14       2  \n",
      "6      15       2  \n",
      "7      16       2  \n",
      "8      17       2  \n",
      "9      18       2  \n",
      "10      1       3  \n",
      "11      2       3  \n",
      "12     13       3  \n",
      "13     14       3  \n",
      "14     15       3  \n",
      "15     16       3  \n",
      "16     17       3  \n",
      "17     18       3  \n",
      "18      1       4  \n",
      "19      2       4  \n",
      "20      3       4  \n",
      "21      4       4  \n",
      "22      5       4  \n",
      "23      6       4  \n",
      "24      7       4  \n"
     ]
    }
   ],
   "source": [
    "import tkinter as tk\n",
    "from tkinter import filedialog\n",
    "import pandas as pd\n",
    "\n",
    "root= tk.Tk()\n",
    "\n",
    "canvas1 = tk.Canvas(root, width = 300, height = 300, bg = 'lightsteelblue')\n",
    "canvas1.pack()\n",
    "\n",
    "def getExcel ():\n",
    "    global df\n",
    "    \n",
    "    import_file_path = filedialog.askopenfilename()\n",
    "    df = pd.read_excel (import_file_path)\n",
    "    print (df)\n",
    "    \n",
    "browseButton_Excel = tk.Button(text='Import Excel File', command=getExcel, bg='green', fg='white', font=('helvetica', 12, 'bold'))\n",
    "canvas1.create_window(150, 150, window=browseButton_Excel)\n",
    "\n",
    "root.mainloop()"
   ]
  },
  {
   "cell_type": "code",
   "execution_count": null,
   "metadata": {},
   "outputs": [],
   "source": []
  }
 ],
 "metadata": {
  "kernelspec": {
   "display_name": "Python 3",
   "language": "python",
   "name": "python3"
  },
  "language_info": {
   "codemirror_mode": {
    "name": "ipython",
    "version": 3
   },
   "file_extension": ".py",
   "mimetype": "text/x-python",
   "name": "python",
   "nbconvert_exporter": "python",
   "pygments_lexer": "ipython3",
   "version": "3.6.8"
  }
 },
 "nbformat": 4,
 "nbformat_minor": 2
}
