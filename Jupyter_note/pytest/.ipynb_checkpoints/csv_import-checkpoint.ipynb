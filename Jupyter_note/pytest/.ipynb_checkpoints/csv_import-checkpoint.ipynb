{
 "cells": [
  {
   "cell_type": "code",
   "execution_count": 4,
   "metadata": {},
   "outputs": [
    {
     "name": "stdout",
     "output_type": "stream",
     "text": [
      "Collecting xlrd\n",
      "\u001b[?25l  Downloading https://files.pythonhosted.org/packages/b0/16/63576a1a001752e34bf8ea62e367997530dc553b689356b9879339cf45a4/xlrd-1.2.0-py2.py3-none-any.whl (103kB)\n",
      "\u001b[K     |████████████████████████████████| 112kB 4.2MB/s eta 0:00:01\n",
      "\u001b[?25hInstalling collected packages: xlrd\n",
      "Successfully installed xlrd-1.2.0\n"
     ]
    }
   ],
   "source": [
    "!pip install xlrd --user"
   ]
  },
  {
   "cell_type": "code",
   "execution_count": 19,
   "metadata": {
    "scrolled": true
   },
   "outputs": [],
   "source": [
    "import pandas as pd\n",
    "import xlrd\n",
    "from owlready2 import*\n",
    "import types\n",
    "import csv"
   ]
  },
  {
   "cell_type": "code",
   "execution_count": 6,
   "metadata": {},
   "outputs": [
    {
     "data": {
      "text/plain": [
       "'/home/hasnain/pyhas/Jupyter_note/pytest'"
      ]
     },
     "execution_count": 6,
     "metadata": {},
     "output_type": "execute_result"
    }
   ],
   "source": [
    "pwd"
   ]
  },
  {
   "cell_type": "code",
   "execution_count": 22,
   "metadata": {
    "scrolled": true
   },
   "outputs": [],
   "source": [
    "#df = csv.read('demoxl.csv')\n",
    "\n",
    "with open('demoxl.csv', newline='') as csvfile:\n",
    "    sp = csv.reader(csvfile, delimiter=',')"
   ]
  },
  {
   "cell_type": "code",
   "execution_count": 8,
   "metadata": {},
   "outputs": [
    {
     "data": {
      "text/html": [
       "<div>\n",
       "<style scoped>\n",
       "    .dataframe tbody tr th:only-of-type {\n",
       "        vertical-align: middle;\n",
       "    }\n",
       "\n",
       "    .dataframe tbody tr th {\n",
       "        vertical-align: top;\n",
       "    }\n",
       "\n",
       "    .dataframe thead th {\n",
       "        text-align: right;\n",
       "    }\n",
       "</style>\n",
       "<table border=\"1\" class=\"dataframe\">\n",
       "  <thead>\n",
       "    <tr style=\"text-align: right;\">\n",
       "      <th></th>\n",
       "      <th>Z</th>\n",
       "      <th>Sym</th>\n",
       "      <th>Element</th>\n",
       "      <th>Origin of name</th>\n",
       "      <th>Group</th>\n",
       "      <th>Period</th>\n",
       "    </tr>\n",
       "  </thead>\n",
       "  <tbody>\n",
       "    <tr>\n",
       "      <th>0</th>\n",
       "      <td>1</td>\n",
       "      <td>H</td>\n",
       "      <td>Hydrogen</td>\n",
       "      <td>the Greek 'hydro' and 'genes' meaning water-fo...</td>\n",
       "      <td>1</td>\n",
       "      <td>1</td>\n",
       "    </tr>\n",
       "    <tr>\n",
       "      <th>1</th>\n",
       "      <td>2</td>\n",
       "      <td>He</td>\n",
       "      <td>Helium</td>\n",
       "      <td>the Greek 'helios' meaning sun</td>\n",
       "      <td>18</td>\n",
       "      <td>1</td>\n",
       "    </tr>\n",
       "    <tr>\n",
       "      <th>2</th>\n",
       "      <td>3</td>\n",
       "      <td>Li</td>\n",
       "      <td>Lithium</td>\n",
       "      <td>the Greek 'lithos' meaning stone</td>\n",
       "      <td>1</td>\n",
       "      <td>2</td>\n",
       "    </tr>\n",
       "    <tr>\n",
       "      <th>3</th>\n",
       "      <td>4</td>\n",
       "      <td>Be</td>\n",
       "      <td>Beryllium</td>\n",
       "      <td>the Greek name for beryl, 'beryllo'</td>\n",
       "      <td>2</td>\n",
       "      <td>2</td>\n",
       "    </tr>\n",
       "    <tr>\n",
       "      <th>4</th>\n",
       "      <td>5</td>\n",
       "      <td>B</td>\n",
       "      <td>Boron</td>\n",
       "      <td>the Arabic 'buraq', which was the name for borax</td>\n",
       "      <td>13</td>\n",
       "      <td>2</td>\n",
       "    </tr>\n",
       "    <tr>\n",
       "      <th>5</th>\n",
       "      <td>6</td>\n",
       "      <td>C</td>\n",
       "      <td>Carbon</td>\n",
       "      <td>the Latin 'carbo', meaning charcoal</td>\n",
       "      <td>14</td>\n",
       "      <td>2</td>\n",
       "    </tr>\n",
       "    <tr>\n",
       "      <th>6</th>\n",
       "      <td>7</td>\n",
       "      <td>N</td>\n",
       "      <td>Nitrogen</td>\n",
       "      <td>the Greek 'nitron' and 'genes' meaning nitre-f...</td>\n",
       "      <td>15</td>\n",
       "      <td>2</td>\n",
       "    </tr>\n",
       "    <tr>\n",
       "      <th>7</th>\n",
       "      <td>8</td>\n",
       "      <td>O</td>\n",
       "      <td>Oxygen</td>\n",
       "      <td>the Greek 'oxy' and 'genes' meaning acid-forming</td>\n",
       "      <td>16</td>\n",
       "      <td>2</td>\n",
       "    </tr>\n",
       "    <tr>\n",
       "      <th>8</th>\n",
       "      <td>9</td>\n",
       "      <td>F</td>\n",
       "      <td>Fluorine</td>\n",
       "      <td>the Latin 'fluere', meaning to flow</td>\n",
       "      <td>17</td>\n",
       "      <td>2</td>\n",
       "    </tr>\n",
       "    <tr>\n",
       "      <th>9</th>\n",
       "      <td>10</td>\n",
       "      <td>Ne</td>\n",
       "      <td>Neon</td>\n",
       "      <td>the Greek 'neos', meaning new</td>\n",
       "      <td>18</td>\n",
       "      <td>2</td>\n",
       "    </tr>\n",
       "    <tr>\n",
       "      <th>10</th>\n",
       "      <td>11</td>\n",
       "      <td>Na</td>\n",
       "      <td>Sodium</td>\n",
       "      <td>the English word soda (natrium in Latin)</td>\n",
       "      <td>1</td>\n",
       "      <td>3</td>\n",
       "    </tr>\n",
       "    <tr>\n",
       "      <th>11</th>\n",
       "      <td>12</td>\n",
       "      <td>Mg</td>\n",
       "      <td>Magnesium</td>\n",
       "      <td>Magnesia, a district of Eastern Thessaly in Gr...</td>\n",
       "      <td>2</td>\n",
       "      <td>3</td>\n",
       "    </tr>\n",
       "    <tr>\n",
       "      <th>12</th>\n",
       "      <td>13</td>\n",
       "      <td>Al</td>\n",
       "      <td>Aluminium</td>\n",
       "      <td>the Latin name for alum, 'alumen' meaning bitt...</td>\n",
       "      <td>13</td>\n",
       "      <td>3</td>\n",
       "    </tr>\n",
       "    <tr>\n",
       "      <th>13</th>\n",
       "      <td>14</td>\n",
       "      <td>Si</td>\n",
       "      <td>Silicon</td>\n",
       "      <td>the Latin 'silex' or 'silicis', meaning flint</td>\n",
       "      <td>14</td>\n",
       "      <td>3</td>\n",
       "    </tr>\n",
       "    <tr>\n",
       "      <th>14</th>\n",
       "      <td>15</td>\n",
       "      <td>P</td>\n",
       "      <td>Phosphorus</td>\n",
       "      <td>the Greek 'phosphoros', meaning bringer of light</td>\n",
       "      <td>15</td>\n",
       "      <td>3</td>\n",
       "    </tr>\n",
       "    <tr>\n",
       "      <th>15</th>\n",
       "      <td>16</td>\n",
       "      <td>S</td>\n",
       "      <td>Sulfur</td>\n",
       "      <td>Either from the Sanskrit 'sulvere', or the Lat...</td>\n",
       "      <td>16</td>\n",
       "      <td>3</td>\n",
       "    </tr>\n",
       "    <tr>\n",
       "      <th>16</th>\n",
       "      <td>17</td>\n",
       "      <td>Cl</td>\n",
       "      <td>Chlorine</td>\n",
       "      <td>the Greek 'chloros', meaning greenish yellow</td>\n",
       "      <td>17</td>\n",
       "      <td>3</td>\n",
       "    </tr>\n",
       "    <tr>\n",
       "      <th>17</th>\n",
       "      <td>18</td>\n",
       "      <td>Ar</td>\n",
       "      <td>Argon</td>\n",
       "      <td>the Greek, 'argos', meaning idle</td>\n",
       "      <td>18</td>\n",
       "      <td>3</td>\n",
       "    </tr>\n",
       "    <tr>\n",
       "      <th>18</th>\n",
       "      <td>19</td>\n",
       "      <td>K</td>\n",
       "      <td>Potassium</td>\n",
       "      <td>the English word potash (kalium in Latin)</td>\n",
       "      <td>1</td>\n",
       "      <td>4</td>\n",
       "    </tr>\n",
       "    <tr>\n",
       "      <th>19</th>\n",
       "      <td>20</td>\n",
       "      <td>Ca</td>\n",
       "      <td>Calcium</td>\n",
       "      <td>the Latin 'calx' meaning lime</td>\n",
       "      <td>2</td>\n",
       "      <td>4</td>\n",
       "    </tr>\n",
       "    <tr>\n",
       "      <th>20</th>\n",
       "      <td>21</td>\n",
       "      <td>Sc</td>\n",
       "      <td>Scandium</td>\n",
       "      <td>Scandinavia (with the Latin name Scandia)</td>\n",
       "      <td>3</td>\n",
       "      <td>4</td>\n",
       "    </tr>\n",
       "    <tr>\n",
       "      <th>21</th>\n",
       "      <td>22</td>\n",
       "      <td>Ti</td>\n",
       "      <td>Titanium</td>\n",
       "      <td>Titans, the sons of the Earth goddess of Greek...</td>\n",
       "      <td>4</td>\n",
       "      <td>4</td>\n",
       "    </tr>\n",
       "    <tr>\n",
       "      <th>22</th>\n",
       "      <td>23</td>\n",
       "      <td>V</td>\n",
       "      <td>Vanadium</td>\n",
       "      <td>Vanadis, an old Norse name for the Scandinavia...</td>\n",
       "      <td>5</td>\n",
       "      <td>4</td>\n",
       "    </tr>\n",
       "    <tr>\n",
       "      <th>23</th>\n",
       "      <td>24</td>\n",
       "      <td>Cr</td>\n",
       "      <td>Chromium</td>\n",
       "      <td>the Greek 'chroma', meaning colour</td>\n",
       "      <td>6</td>\n",
       "      <td>4</td>\n",
       "    </tr>\n",
       "    <tr>\n",
       "      <th>24</th>\n",
       "      <td>25</td>\n",
       "      <td>Mn</td>\n",
       "      <td>Manganese</td>\n",
       "      <td>Either the Latin 'magnes', meaning magnet or f...</td>\n",
       "      <td>7</td>\n",
       "      <td>4</td>\n",
       "    </tr>\n",
       "  </tbody>\n",
       "</table>\n",
       "</div>"
      ],
      "text/plain": [
       "     Z Sym     Element                                     Origin of name  \\\n",
       "0    1   H    Hydrogen  the Greek 'hydro' and 'genes' meaning water-fo...   \n",
       "1    2  He      Helium                     the Greek 'helios' meaning sun   \n",
       "2    3  Li     Lithium                   the Greek 'lithos' meaning stone   \n",
       "3    4  Be   Beryllium                the Greek name for beryl, 'beryllo'   \n",
       "4    5   B       Boron   the Arabic 'buraq', which was the name for borax   \n",
       "5    6   C      Carbon                the Latin 'carbo', meaning charcoal   \n",
       "6    7   N    Nitrogen  the Greek 'nitron' and 'genes' meaning nitre-f...   \n",
       "7    8   O      Oxygen   the Greek 'oxy' and 'genes' meaning acid-forming   \n",
       "8    9   F    Fluorine                the Latin 'fluere', meaning to flow   \n",
       "9   10  Ne        Neon                      the Greek 'neos', meaning new   \n",
       "10  11  Na      Sodium           the English word soda (natrium in Latin)   \n",
       "11  12  Mg   Magnesium  Magnesia, a district of Eastern Thessaly in Gr...   \n",
       "12  13  Al   Aluminium  the Latin name for alum, 'alumen' meaning bitt...   \n",
       "13  14  Si     Silicon      the Latin 'silex' or 'silicis', meaning flint   \n",
       "14  15   P  Phosphorus   the Greek 'phosphoros', meaning bringer of light   \n",
       "15  16   S      Sulfur  Either from the Sanskrit 'sulvere', or the Lat...   \n",
       "16  17  Cl    Chlorine       the Greek 'chloros', meaning greenish yellow   \n",
       "17  18  Ar       Argon                   the Greek, 'argos', meaning idle   \n",
       "18  19   K   Potassium          the English word potash (kalium in Latin)   \n",
       "19  20  Ca     Calcium                      the Latin 'calx' meaning lime   \n",
       "20  21  Sc    Scandium          Scandinavia (with the Latin name Scandia)   \n",
       "21  22  Ti    Titanium  Titans, the sons of the Earth goddess of Greek...   \n",
       "22  23   V    Vanadium  Vanadis, an old Norse name for the Scandinavia...   \n",
       "23  24  Cr    Chromium                 the Greek 'chroma', meaning colour   \n",
       "24  25  Mn   Manganese  Either the Latin 'magnes', meaning magnet or f...   \n",
       "\n",
       "    Group  Period  \n",
       "0       1       1  \n",
       "1      18       1  \n",
       "2       1       2  \n",
       "3       2       2  \n",
       "4      13       2  \n",
       "5      14       2  \n",
       "6      15       2  \n",
       "7      16       2  \n",
       "8      17       2  \n",
       "9      18       2  \n",
       "10      1       3  \n",
       "11      2       3  \n",
       "12     13       3  \n",
       "13     14       3  \n",
       "14     15       3  \n",
       "15     16       3  \n",
       "16     17       3  \n",
       "17     18       3  \n",
       "18      1       4  \n",
       "19      2       4  \n",
       "20      3       4  \n",
       "21      4       4  \n",
       "22      5       4  \n",
       "23      6       4  \n",
       "24      7       4  "
      ]
     },
     "execution_count": 8,
     "metadata": {},
     "output_type": "execute_result"
    }
   ],
   "source": [
    "df"
   ]
  },
  {
   "cell_type": "code",
   "execution_count": 9,
   "metadata": {
    "scrolled": true
   },
   "outputs": [],
   "source": [
    "dd = pd.DataFrame(df, columns=['Sym'])"
   ]
  },
  {
   "cell_type": "code",
   "execution_count": 18,
   "metadata": {},
   "outputs": [],
   "source": [
    "dd.get(0)"
   ]
  },
  {
   "cell_type": "code",
   "execution_count": null,
   "metadata": {},
   "outputs": [],
   "source": [
    "onto = get_ontology('matcal.owl').load()"
   ]
  },
  {
   "cell_type": "code",
   "execution_count": null,
   "metadata": {},
   "outputs": [],
   "source": [
    "#with onto:\n",
    "   # NewClass = types.new_class(dd, (ab,))\n",
    "x = str(dd)"
   ]
  },
  {
   "cell_type": "code",
   "execution_count": null,
   "metadata": {
    "scrolled": true
   },
   "outputs": [],
   "source": [
    "x"
   ]
  },
  {
   "cell_type": "code",
   "execution_count": null,
   "metadata": {},
   "outputs": [],
   "source": [
    "for cc in dd():\n",
    "    print (cc)"
   ]
  },
  {
   "cell_type": "code",
   "execution_count": null,
   "metadata": {},
   "outputs": [],
   "source": [
    "with onto:\n",
    "    NewClass = types.new_class(x, (ab,))"
   ]
  },
  {
   "cell_type": "code",
   "execution_count": null,
   "metadata": {},
   "outputs": [],
   "source": [
    "onto = get_ontology('matcal.owl').load()"
   ]
  },
  {
   "cell_type": "code",
   "execution_count": null,
   "metadata": {},
   "outputs": [],
   "source": [
    "with onto:\n",
    "    class ab (Thing):\n",
    "        pass\n",
    "    class x(ab):\n",
    "        print(x)\n",
    "        pass"
   ]
  },
  {
   "cell_type": "code",
   "execution_count": null,
   "metadata": {
    "scrolled": true
   },
   "outputs": [],
   "source": [
    "for i in x:\n",
    "    with onto:\n",
    "        class i(ab):\n",
    "            print(i)\n",
    "            pass"
   ]
  },
  {
   "cell_type": "code",
   "execution_count": null,
   "metadata": {},
   "outputs": [],
   "source": [
    "i"
   ]
  },
  {
   "cell_type": "code",
   "execution_count": null,
   "metadata": {},
   "outputs": [],
   "source": [
    "onto.save(file = 'matcal.owl', format= 'rdfxml')"
   ]
  },
  {
   "cell_type": "code",
   "execution_count": null,
   "metadata": {
    "scrolled": true
   },
   "outputs": [],
   "source": [
    "dfs = pd.DataFrame(df, columns = ['1:4'])a"
   ]
  },
  {
   "cell_type": "code",
   "execution_count": null,
   "metadata": {},
   "outputs": [],
   "source": [
    "dfs"
   ]
  },
  {
   "cell_type": "code",
   "execution_count": null,
   "metadata": {},
   "outputs": [],
   "source": []
  }
 ],
 "metadata": {
  "kernelspec": {
   "display_name": "Python 3",
   "language": "python",
   "name": "python3"
  },
  "language_info": {
   "codemirror_mode": {
    "name": "ipython",
    "version": 3
   },
   "file_extension": ".py",
   "mimetype": "text/x-python",
   "name": "python",
   "nbconvert_exporter": "python",
   "pygments_lexer": "ipython3",
   "version": "3.6.8"
  }
 },
 "nbformat": 4,
 "nbformat_minor": 2
}
