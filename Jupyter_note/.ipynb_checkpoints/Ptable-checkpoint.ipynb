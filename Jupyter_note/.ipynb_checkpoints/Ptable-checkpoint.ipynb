{
 "cells": [
  {
   "cell_type": "code",
   "execution_count": 9,
   "metadata": {},
   "outputs": [
    {
     "name": "stderr",
     "output_type": "stream",
     "text": [
      "* Owlready2 * Warning: optimized Cython parser module 'owlready2_optimized' is not available, defaulting to slower Python implementation\n"
     ]
    }
   ],
   "source": [
    "from owlready2 import get_ontology, onto_path"
   ]
  },
  {
   "cell_type": "code",
   "execution_count": 10,
   "metadata": {},
   "outputs": [],
   "source": [
    "import os"
   ]
  },
  {
   "cell_type": "code",
   "execution_count": 11,
   "metadata": {},
   "outputs": [],
   "source": [
    "fpath= os.path.join('PeriodicTable.owl')"
   ]
  },
  {
   "cell_type": "code",
   "execution_count": 12,
   "metadata": {},
   "outputs": [
    {
     "data": {
      "text/plain": [
       "'PeriodicTable.owl'"
      ]
     },
     "execution_count": 12,
     "metadata": {},
     "output_type": "execute_result"
    }
   ],
   "source": [
    "fpath"
   ]
  },
  {
   "cell_type": "code",
   "execution_count": 13,
   "metadata": {},
   "outputs": [],
   "source": [
    "onto = get_ontology(fpath)"
   ]
  },
  {
   "cell_type": "code",
   "execution_count": 14,
   "metadata": {},
   "outputs": [],
   "source": [
    "onto = onto.load()"
   ]
  },
  {
   "cell_type": "code",
   "execution_count": 15,
   "metadata": {},
   "outputs": [
    {
     "data": {
      "text/plain": [
       "get_ontology(\"http://www.daml.org/2003/01/periodictable/PeriodicTable#\")"
      ]
     },
     "execution_count": 15,
     "metadata": {},
     "output_type": "execute_result"
    }
   ],
   "source": [
    "onto"
   ]
  },
  {
   "cell_type": "code",
   "execution_count": 16,
   "metadata": {},
   "outputs": [
    {
     "data": {
      "text/plain": [
       "[PeriodicTable.Block,\n",
       " PeriodicTable.Classification,\n",
       " PeriodicTable.Element,\n",
       " PeriodicTable.Group,\n",
       " PeriodicTable.Period,\n",
       " PeriodicTable.StandardState,\n",
       " PeriodicTable.Hasss]"
      ]
     },
     "execution_count": 16,
     "metadata": {},
     "output_type": "execute_result"
    }
   ],
   "source": [
    "list(onto.classes())"
   ]
  },
  {
   "cell_type": "code",
   "execution_count": 17,
   "metadata": {},
   "outputs": [
    {
     "data": {
      "text/plain": [
       "[PeriodicTable.block,\n",
       " PeriodicTable.classification,\n",
       " PeriodicTable.element,\n",
       " PeriodicTable.group,\n",
       " PeriodicTable.period,\n",
       " PeriodicTable.standardState]"
      ]
     },
     "execution_count": 17,
     "metadata": {},
     "output_type": "execute_result"
    }
   ],
   "source": [
    "list (onto.object_properties())"
   ]
  },
  {
   "cell_type": "code",
   "execution_count": 18,
   "metadata": {},
   "outputs": [
    {
     "data": {
      "text/plain": [
       "[PeriodicTable.atomicNumber,\n",
       " PeriodicTable.atomicWeight,\n",
       " PeriodicTable.casRegistryID,\n",
       " PeriodicTable.color,\n",
       " PeriodicTable.name,\n",
       " PeriodicTable.number,\n",
       " PeriodicTable.symbol]"
      ]
     },
     "execution_count": 18,
     "metadata": {},
     "output_type": "execute_result"
    }
   ],
   "source": [
    "list(onto.data_properties())"
   ]
  },
  {
   "cell_type": "code",
   "execution_count": 19,
   "metadata": {},
   "outputs": [
    {
     "data": {
      "text/plain": [
       "[PeriodicTable.d-block,\n",
       " PeriodicTable.f-block,\n",
       " PeriodicTable.p-block,\n",
       " PeriodicTable.s-block,\n",
       " PeriodicTable.Metallic,\n",
       " PeriodicTable.Non-metallic,\n",
       " PeriodicTable.Semi-metallic,\n",
       " PeriodicTable.gas,\n",
       " PeriodicTable.liquid,\n",
       " PeriodicTable.solid,\n",
       " PeriodicTable.state_unknown,\n",
       " PeriodicTable.Ac,\n",
       " PeriodicTable.group_actinoid,\n",
       " PeriodicTable.period_7,\n",
       " PeriodicTable.Ag,\n",
       " PeriodicTable.group_11,\n",
       " PeriodicTable.period_5,\n",
       " PeriodicTable.Al,\n",
       " PeriodicTable.group_13,\n",
       " PeriodicTable.period_3,\n",
       " PeriodicTable.Am,\n",
       " PeriodicTable.Ar,\n",
       " PeriodicTable.group_18,\n",
       " PeriodicTable.As,\n",
       " PeriodicTable.group_15,\n",
       " PeriodicTable.period_4,\n",
       " PeriodicTable.At,\n",
       " PeriodicTable.group_17,\n",
       " PeriodicTable.period_6,\n",
       " PeriodicTable.Au,\n",
       " PeriodicTable.B,\n",
       " PeriodicTable.period_2,\n",
       " PeriodicTable.Ba,\n",
       " PeriodicTable.group_2,\n",
       " PeriodicTable.Be,\n",
       " PeriodicTable.Bh,\n",
       " PeriodicTable.group_7,\n",
       " PeriodicTable.Bi,\n",
       " PeriodicTable.Bk,\n",
       " PeriodicTable.Br,\n",
       " PeriodicTable.C,\n",
       " PeriodicTable.group_14,\n",
       " PeriodicTable.Ca,\n",
       " PeriodicTable.Cd,\n",
       " PeriodicTable.group_12,\n",
       " PeriodicTable.Ce,\n",
       " PeriodicTable.group_lanthanoid,\n",
       " PeriodicTable.Cf,\n",
       " PeriodicTable.Cl,\n",
       " PeriodicTable.Cm,\n",
       " PeriodicTable.Co,\n",
       " PeriodicTable.group_9,\n",
       " PeriodicTable.Cr,\n",
       " PeriodicTable.group_6,\n",
       " PeriodicTable.Cs,\n",
       " PeriodicTable.group_1,\n",
       " PeriodicTable.Cu,\n",
       " PeriodicTable.Db,\n",
       " PeriodicTable.group_5,\n",
       " PeriodicTable.Dy,\n",
       " PeriodicTable.Er,\n",
       " PeriodicTable.Es,\n",
       " PeriodicTable.Eu,\n",
       " PeriodicTable.F,\n",
       " PeriodicTable.Fe,\n",
       " PeriodicTable.group_8,\n",
       " PeriodicTable.Fm,\n",
       " PeriodicTable.Fr,\n",
       " PeriodicTable.Ga,\n",
       " PeriodicTable.Gd,\n",
       " PeriodicTable.Ge,\n",
       " PeriodicTable.H,\n",
       " PeriodicTable.period_1,\n",
       " PeriodicTable.HR,\n",
       " PeriodicTable.He,\n",
       " PeriodicTable.Hf,\n",
       " PeriodicTable.group_4,\n",
       " PeriodicTable.Hg,\n",
       " PeriodicTable.Ho,\n",
       " PeriodicTable.Hs,\n",
       " PeriodicTable.I,\n",
       " PeriodicTable.In,\n",
       " PeriodicTable.Ir,\n",
       " PeriodicTable.K,\n",
       " PeriodicTable.Kr,\n",
       " PeriodicTable.La,\n",
       " PeriodicTable.Li,\n",
       " PeriodicTable.Lr,\n",
       " PeriodicTable.group_3,\n",
       " PeriodicTable.Lu,\n",
       " PeriodicTable.Md,\n",
       " PeriodicTable.Mg,\n",
       " PeriodicTable.Mn,\n",
       " PeriodicTable.Mo,\n",
       " PeriodicTable.Mt,\n",
       " PeriodicTable.N,\n",
       " PeriodicTable.Na,\n",
       " PeriodicTable.Nb,\n",
       " PeriodicTable.Nd,\n",
       " PeriodicTable.Ne,\n",
       " PeriodicTable.Ni,\n",
       " PeriodicTable.group_10,\n",
       " PeriodicTable.No,\n",
       " PeriodicTable.Np,\n",
       " PeriodicTable.O,\n",
       " PeriodicTable.group_16,\n",
       " PeriodicTable.Os,\n",
       " PeriodicTable.P,\n",
       " PeriodicTable.Pa,\n",
       " PeriodicTable.Pb,\n",
       " PeriodicTable.Pd,\n",
       " PeriodicTable.Pm,\n",
       " PeriodicTable.Po,\n",
       " PeriodicTable.Pr,\n",
       " PeriodicTable.Pt,\n",
       " PeriodicTable.Pu,\n",
       " PeriodicTable.Ra,\n",
       " PeriodicTable.Rb,\n",
       " PeriodicTable.Re,\n",
       " PeriodicTable.Rf,\n",
       " PeriodicTable.Rh,\n",
       " PeriodicTable.Rn,\n",
       " PeriodicTable.Ru,\n",
       " PeriodicTable.S,\n",
       " PeriodicTable.Sb,\n",
       " PeriodicTable.Sc,\n",
       " PeriodicTable.Se,\n",
       " PeriodicTable.Sg,\n",
       " PeriodicTable.Si,\n",
       " PeriodicTable.Sm,\n",
       " PeriodicTable.Sn,\n",
       " PeriodicTable.Sr,\n",
       " PeriodicTable.Ta,\n",
       " PeriodicTable.Tb,\n",
       " PeriodicTable.Tc,\n",
       " PeriodicTable.Te,\n",
       " PeriodicTable.Th,\n",
       " PeriodicTable.Ti,\n",
       " PeriodicTable.Tl,\n",
       " PeriodicTable.Tm,\n",
       " PeriodicTable.U,\n",
       " PeriodicTable.Uub,\n",
       " PeriodicTable.Uuh,\n",
       " PeriodicTable.Uun,\n",
       " PeriodicTable.Uuo,\n",
       " PeriodicTable.Uup,\n",
       " PeriodicTable.Uuq,\n",
       " PeriodicTable.Uus,\n",
       " PeriodicTable.Uut,\n",
       " PeriodicTable.Uuu,\n",
       " PeriodicTable.V,\n",
       " PeriodicTable.W,\n",
       " PeriodicTable.Xe,\n",
       " PeriodicTable.Y,\n",
       " PeriodicTable.Yb,\n",
       " PeriodicTable.Zn,\n",
       " PeriodicTable.Zr]"
      ]
     },
     "execution_count": 19,
     "metadata": {},
     "output_type": "execute_result"
    }
   ],
   "source": [
    "list(onto.individuals())"
   ]
  },
  {
   "cell_type": "code",
   "execution_count": 20,
   "metadata": {},
   "outputs": [
    {
     "data": {
      "text/plain": [
       "[PeriodicTable.color]"
      ]
     },
     "execution_count": 20,
     "metadata": {},
     "output_type": "execute_result"
    }
   ],
   "source": [
    "onto.search(iri = \"*color\")"
   ]
  },
  {
   "cell_type": "code",
   "execution_count": 21,
   "metadata": {},
   "outputs": [
    {
     "ename": "NameError",
     "evalue": "name 'block' is not defined",
     "output_type": "error",
     "traceback": [
      "\u001b[0;31m---------------------------------------------------------------------------\u001b[0m",
      "\u001b[0;31mNameError\u001b[0m                                 Traceback (most recent call last)",
      "\u001b[0;32m<ipython-input-21-caa0f235a94c>\u001b[0m in \u001b[0;36m<module>\u001b[0;34m\u001b[0m\n\u001b[0;32m----> 1\u001b[0;31m \u001b[0mprint\u001b[0m\u001b[0;34m(\u001b[0m\u001b[0mblock\u001b[0m\u001b[0;34m.\u001b[0m\u001b[0mis_a\u001b[0m\u001b[0;34m)\u001b[0m\u001b[0;34m\u001b[0m\u001b[0;34m\u001b[0m\u001b[0m\n\u001b[0m",
      "\u001b[0;31mNameError\u001b[0m: name 'block' is not defined"
     ]
    }
   ],
   "source": [
    "print(block.is_a)"
   ]
  },
  {
   "cell_type": "code",
   "execution_count": null,
   "metadata": {},
   "outputs": [],
   "source": []
  }
 ],
 "metadata": {
  "kernelspec": {
   "display_name": "Python 3",
   "language": "python",
   "name": "python3"
  },
  "language_info": {
   "codemirror_mode": {
    "name": "ipython",
    "version": 3
   },
   "file_extension": ".py",
   "mimetype": "text/x-python",
   "name": "python",
   "nbconvert_exporter": "python",
   "pygments_lexer": "ipython3",
   "version": "3.6.8"
  }
 },
 "nbformat": 4,
 "nbformat_minor": 2
}
